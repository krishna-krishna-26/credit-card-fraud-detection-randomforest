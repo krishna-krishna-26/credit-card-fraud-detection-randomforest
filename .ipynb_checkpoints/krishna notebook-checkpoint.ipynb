{
 "cells": [
  {
   "cell_type": "code",
   "execution_count": 1,
   "id": "f91876f5-b240-45cf-a839-164b172482f5",
   "metadata": {},
   "outputs": [
    {
     "name": "stdout",
     "output_type": "stream",
     "text": [
      "Collecting pandas\n",
      "  Downloading pandas-2.2.3-cp310-cp310-win_amd64.whl.metadata (19 kB)\n",
      "Collecting numpy\n",
      "  Downloading numpy-2.2.4-cp310-cp310-win_amd64.whl.metadata (60 kB)\n",
      "Collecting matplotlib\n",
      "  Downloading matplotlib-3.10.1-cp310-cp310-win_amd64.whl.metadata (11 kB)\n",
      "Collecting seaborn\n",
      "  Downloading seaborn-0.13.2-py3-none-any.whl.metadata (5.4 kB)\n",
      "Collecting scikit-learn\n",
      "  Downloading scikit_learn-1.6.1-cp310-cp310-win_amd64.whl.metadata (15 kB)\n",
      "Collecting imbalanced-learn\n",
      "  Downloading imbalanced_learn-0.13.0-py3-none-any.whl.metadata (8.8 kB)\n",
      "Requirement already satisfied: python-dateutil>=2.8.2 in c:\\users\\asus\\appdata\\local\\programs\\python\\python310\\lib\\site-packages (from pandas) (2.9.0.post0)\n",
      "Collecting pytz>=2020.1 (from pandas)\n",
      "  Downloading pytz-2025.1-py2.py3-none-any.whl.metadata (22 kB)\n",
      "Collecting tzdata>=2022.7 (from pandas)\n",
      "  Downloading tzdata-2025.1-py2.py3-none-any.whl.metadata (1.4 kB)\n",
      "Collecting contourpy>=1.0.1 (from matplotlib)\n",
      "  Downloading contourpy-1.3.1-cp310-cp310-win_amd64.whl.metadata (5.4 kB)\n",
      "Collecting cycler>=0.10 (from matplotlib)\n",
      "  Downloading cycler-0.12.1-py3-none-any.whl.metadata (3.8 kB)\n",
      "Collecting fonttools>=4.22.0 (from matplotlib)\n",
      "  Downloading fonttools-4.56.0-cp310-cp310-win_amd64.whl.metadata (103 kB)\n",
      "Collecting kiwisolver>=1.3.1 (from matplotlib)\n",
      "  Downloading kiwisolver-1.4.8-cp310-cp310-win_amd64.whl.metadata (6.3 kB)\n",
      "Requirement already satisfied: packaging>=20.0 in c:\\users\\asus\\appdata\\local\\programs\\python\\python310\\lib\\site-packages (from matplotlib) (24.2)\n",
      "Collecting pillow>=8 (from matplotlib)\n",
      "  Downloading pillow-11.1.0-cp310-cp310-win_amd64.whl.metadata (9.3 kB)\n",
      "Collecting pyparsing>=2.3.1 (from matplotlib)\n",
      "  Downloading pyparsing-3.2.1-py3-none-any.whl.metadata (5.0 kB)\n",
      "Collecting scipy>=1.6.0 (from scikit-learn)\n",
      "  Downloading scipy-1.15.2-cp310-cp310-win_amd64.whl.metadata (60 kB)\n",
      "Collecting joblib>=1.2.0 (from scikit-learn)\n",
      "  Downloading joblib-1.4.2-py3-none-any.whl.metadata (5.4 kB)\n",
      "Collecting threadpoolctl>=3.1.0 (from scikit-learn)\n",
      "  Downloading threadpoolctl-3.6.0-py3-none-any.whl.metadata (13 kB)\n",
      "Collecting sklearn-compat<1,>=0.1 (from imbalanced-learn)\n",
      "  Downloading sklearn_compat-0.1.3-py3-none-any.whl.metadata (18 kB)\n",
      "Requirement already satisfied: six>=1.5 in c:\\users\\asus\\appdata\\local\\programs\\python\\python310\\lib\\site-packages (from python-dateutil>=2.8.2->pandas) (1.17.0)\n",
      "Downloading pandas-2.2.3-cp310-cp310-win_amd64.whl (11.6 MB)\n",
      "   ---------------------------------------- 0.0/11.6 MB ? eta -:--:--\n",
      "   --------------------- ------------------ 6.3/11.6 MB 32.1 MB/s eta 0:00:01\n",
      "   ---------------------------------------- 11.6/11.6 MB 31.5 MB/s eta 0:00:00\n",
      "Downloading numpy-2.2.4-cp310-cp310-win_amd64.whl (12.9 MB)\n",
      "   ---------------------------------------- 0.0/12.9 MB ? eta -:--:--\n",
      "   ------------------------- -------------- 8.4/12.9 MB 40.0 MB/s eta 0:00:01\n",
      "   ---------------------------------------- 12.9/12.9 MB 35.2 MB/s eta 0:00:00\n",
      "Downloading matplotlib-3.10.1-cp310-cp310-win_amd64.whl (8.1 MB)\n",
      "   ---------------------------------------- 0.0/8.1 MB ? eta -:--:--\n",
      "   ---------------------------------------  7.9/8.1 MB 37.4 MB/s eta 0:00:01\n",
      "   ---------------------------------------- 8.1/8.1 MB 35.7 MB/s eta 0:00:00\n",
      "Downloading seaborn-0.13.2-py3-none-any.whl (294 kB)\n",
      "Downloading scikit_learn-1.6.1-cp310-cp310-win_amd64.whl (11.1 MB)\n",
      "   ---------------------------------------- 0.0/11.1 MB ? eta -:--:--\n",
      "   --------------------------- ------------ 7.6/11.1 MB 36.2 MB/s eta 0:00:01\n",
      "   ---------------------------------------- 11.1/11.1 MB 33.1 MB/s eta 0:00:00\n",
      "Downloading imbalanced_learn-0.13.0-py3-none-any.whl (238 kB)\n",
      "Downloading contourpy-1.3.1-cp310-cp310-win_amd64.whl (218 kB)\n",
      "Downloading cycler-0.12.1-py3-none-any.whl (8.3 kB)\n",
      "Downloading fonttools-4.56.0-cp310-cp310-win_amd64.whl (2.2 MB)\n",
      "   ---------------------------------------- 0.0/2.2 MB ? eta -:--:--\n",
      "   ---------------------------------------- 2.2/2.2 MB 30.8 MB/s eta 0:00:00\n",
      "Downloading joblib-1.4.2-py3-none-any.whl (301 kB)\n",
      "Downloading kiwisolver-1.4.8-cp310-cp310-win_amd64.whl (71 kB)\n",
      "Downloading pillow-11.1.0-cp310-cp310-win_amd64.whl (2.6 MB)\n",
      "   ---------------------------------------- 0.0/2.6 MB ? eta -:--:--\n",
      "   ---------------------------------------- 2.6/2.6 MB 38.1 MB/s eta 0:00:00\n",
      "Downloading pyparsing-3.2.1-py3-none-any.whl (107 kB)\n",
      "Downloading pytz-2025.1-py2.py3-none-any.whl (507 kB)\n",
      "Downloading scipy-1.15.2-cp310-cp310-win_amd64.whl (41.2 MB)\n",
      "   ---------------------------------------- 0.0/41.2 MB ? eta -:--:--\n",
      "   ------- -------------------------------- 7.3/41.2 MB 34.9 MB/s eta 0:00:01\n",
      "   ------------- -------------------------- 13.6/41.2 MB 32.8 MB/s eta 0:00:01\n",
      "   ----------------- ---------------------- 18.4/41.2 MB 30.5 MB/s eta 0:00:01\n",
      "   ------------------------- -------------- 26.0/41.2 MB 31.0 MB/s eta 0:00:01\n",
      "   --------------------------------- ------ 34.1/41.2 MB 32.3 MB/s eta 0:00:01\n",
      "   ---------------------------------------  41.2/41.2 MB 33.1 MB/s eta 0:00:01\n",
      "   ---------------------------------------- 41.2/41.2 MB 31.6 MB/s eta 0:00:00\n",
      "Downloading sklearn_compat-0.1.3-py3-none-any.whl (18 kB)\n",
      "Downloading threadpoolctl-3.6.0-py3-none-any.whl (18 kB)\n",
      "Downloading tzdata-2025.1-py2.py3-none-any.whl (346 kB)\n",
      "Installing collected packages: pytz, tzdata, threadpoolctl, pyparsing, pillow, numpy, kiwisolver, joblib, fonttools, cycler, scipy, pandas, contourpy, scikit-learn, matplotlib, sklearn-compat, seaborn, imbalanced-learn\n",
      "Successfully installed contourpy-1.3.1 cycler-0.12.1 fonttools-4.56.0 imbalanced-learn-0.13.0 joblib-1.4.2 kiwisolver-1.4.8 matplotlib-3.10.1 numpy-2.2.4 pandas-2.2.3 pillow-11.1.0 pyparsing-3.2.1 pytz-2025.1 scikit-learn-1.6.1 scipy-1.15.2 seaborn-0.13.2 sklearn-compat-0.1.3 threadpoolctl-3.6.0 tzdata-2025.1\n",
      "Note: you may need to restart the kernel to use updated packages.\n"
     ]
    }
   ],
   "source": [
    "pip install pandas numpy matplotlib seaborn scikit-learn imbalanced-learn\n"
   ]
  },
  {
   "cell_type": "code",
   "execution_count": 1,
   "id": "d83e423f-c9a5-4393-8189-42185d1a5689",
   "metadata": {},
   "outputs": [
    {
     "name": "stdout",
     "output_type": "stream",
     "text": [
      "Collecting xgboost\n",
      "  Downloading xgboost-3.0.0-py3-none-win_amd64.whl.metadata (2.1 kB)\n",
      "Collecting lightgbm\n",
      "  Downloading lightgbm-4.6.0-py3-none-win_amd64.whl.metadata (17 kB)\n",
      "Requirement already satisfied: numpy in c:\\users\\asus\\appdata\\local\\programs\\python\\python310\\lib\\site-packages (from xgboost) (2.2.4)\n",
      "Requirement already satisfied: scipy in c:\\users\\asus\\appdata\\local\\programs\\python\\python310\\lib\\site-packages (from xgboost) (1.15.2)\n",
      "Downloading xgboost-3.0.0-py3-none-win_amd64.whl (150.0 MB)\n",
      "   ---------------------------------------- 0.0/150.0 MB ? eta -:--:--\n",
      "   - -------------------------------------- 5.5/150.0 MB 30.5 MB/s eta 0:00:05\n",
      "   --- ------------------------------------ 12.6/150.0 MB 32.9 MB/s eta 0:00:05\n",
      "   ----- ---------------------------------- 20.2/150.0 MB 34.5 MB/s eta 0:00:04\n",
      "   ------- -------------------------------- 27.8/150.0 MB 35.2 MB/s eta 0:00:04\n",
      "   --------- ------------------------------ 35.7/150.0 MB 35.4 MB/s eta 0:00:04\n",
      "   ----------- ---------------------------- 43.3/150.0 MB 35.7 MB/s eta 0:00:03\n",
      "   ------------- -------------------------- 50.3/150.0 MB 35.2 MB/s eta 0:00:03\n",
      "   --------------- ------------------------ 58.5/150.0 MB 35.8 MB/s eta 0:00:03\n",
      "   ----------------- ---------------------- 65.8/150.0 MB 36.2 MB/s eta 0:00:03\n",
      "   ------------------- -------------------- 73.4/150.0 MB 36.0 MB/s eta 0:00:03\n",
      "   --------------------- ------------------ 81.8/150.0 MB 36.2 MB/s eta 0:00:02\n",
      "   ----------------------- ---------------- 89.1/150.0 MB 36.2 MB/s eta 0:00:02\n",
      "   ------------------------- -------------- 97.0/150.0 MB 36.2 MB/s eta 0:00:02\n",
      "   --------------------------- ----------- 104.1/150.0 MB 36.1 MB/s eta 0:00:02\n",
      "   ----------------------------- --------- 111.7/150.0 MB 36.2 MB/s eta 0:00:02\n",
      "   ------------------------------ -------- 119.0/150.0 MB 36.2 MB/s eta 0:00:01\n",
      "   -------------------------------- ------ 126.6/150.0 MB 36.3 MB/s eta 0:00:01\n",
      "   ---------------------------------- ---- 134.2/150.0 MB 36.2 MB/s eta 0:00:01\n",
      "   ------------------------------------ -- 141.8/150.0 MB 36.2 MB/s eta 0:00:01\n",
      "   --------------------------------------  149.7/150.0 MB 36.2 MB/s eta 0:00:01\n",
      "   --------------------------------------  149.9/150.0 MB 36.3 MB/s eta 0:00:01\n",
      "   --------------------------------------- 150.0/150.0 MB 34.5 MB/s eta 0:00:00\n",
      "Downloading lightgbm-4.6.0-py3-none-win_amd64.whl (1.5 MB)\n",
      "   ---------------------------------------- 0.0/1.5 MB ? eta -:--:--\n",
      "   ---------------------------------------- 1.5/1.5 MB 10.9 MB/s eta 0:00:00\n",
      "Installing collected packages: xgboost, lightgbm\n",
      "Successfully installed lightgbm-4.6.0 xgboost-3.0.0\n",
      "Note: you may need to restart the kernel to use updated packages.\n"
     ]
    }
   ],
   "source": [
    "pip install xgboost lightgbm\n"
   ]
  },
  {
   "cell_type": "code",
   "execution_count": 1,
   "id": "3a874efb-2195-4e00-97dc-68c1f58000ef",
   "metadata": {},
   "outputs": [
    {
     "name": "stdout",
     "output_type": "stream",
     "text": [
      "Train Data Info:\n",
      "<class 'pandas.core.frame.DataFrame'>\n",
      "RangeIndex: 1296675 entries, 0 to 1296674\n",
      "Data columns (total 23 columns):\n",
      " #   Column                 Non-Null Count    Dtype  \n",
      "---  ------                 --------------    -----  \n",
      " 0   Unnamed: 0             1296675 non-null  int64  \n",
      " 1   trans_date_trans_time  1296675 non-null  object \n",
      " 2   cc_num                 1296675 non-null  int64  \n",
      " 3   merchant               1296675 non-null  object \n",
      " 4   category               1296675 non-null  object \n",
      " 5   amt                    1296675 non-null  float64\n",
      " 6   first                  1296675 non-null  object \n",
      " 7   last                   1296675 non-null  object \n",
      " 8   gender                 1296675 non-null  object \n",
      " 9   street                 1296675 non-null  object \n",
      " 10  city                   1296675 non-null  object \n",
      " 11  state                  1296675 non-null  object \n",
      " 12  zip                    1296675 non-null  int64  \n",
      " 13  lat                    1296675 non-null  float64\n",
      " 14  long                   1296675 non-null  float64\n",
      " 15  city_pop               1296675 non-null  int64  \n",
      " 16  job                    1296675 non-null  object \n",
      " 17  dob                    1296675 non-null  object \n",
      " 18  trans_num              1296675 non-null  object \n",
      " 19  unix_time              1296675 non-null  int64  \n",
      " 20  merch_lat              1296675 non-null  float64\n",
      " 21  merch_long             1296675 non-null  float64\n",
      " 22  is_fraud               1296675 non-null  int64  \n",
      "dtypes: float64(5), int64(6), object(12)\n",
      "memory usage: 227.5+ MB\n",
      "None\n",
      "\n",
      "Test Data Info:\n",
      "<class 'pandas.core.frame.DataFrame'>\n",
      "RangeIndex: 555719 entries, 0 to 555718\n",
      "Data columns (total 23 columns):\n",
      " #   Column                 Non-Null Count   Dtype  \n",
      "---  ------                 --------------   -----  \n",
      " 0   Unnamed: 0             555719 non-null  int64  \n",
      " 1   trans_date_trans_time  555719 non-null  object \n",
      " 2   cc_num                 555719 non-null  int64  \n",
      " 3   merchant               555719 non-null  object \n",
      " 4   category               555719 non-null  object \n",
      " 5   amt                    555719 non-null  float64\n",
      " 6   first                  555719 non-null  object \n",
      " 7   last                   555719 non-null  object \n",
      " 8   gender                 555719 non-null  object \n",
      " 9   street                 555719 non-null  object \n",
      " 10  city                   555719 non-null  object \n",
      " 11  state                  555719 non-null  object \n",
      " 12  zip                    555719 non-null  int64  \n",
      " 13  lat                    555719 non-null  float64\n",
      " 14  long                   555719 non-null  float64\n",
      " 15  city_pop               555719 non-null  int64  \n",
      " 16  job                    555719 non-null  object \n",
      " 17  dob                    555719 non-null  object \n",
      " 18  trans_num              555719 non-null  object \n",
      " 19  unix_time              555719 non-null  int64  \n",
      " 20  merch_lat              555719 non-null  float64\n",
      " 21  merch_long             555719 non-null  float64\n",
      " 22  is_fraud               555719 non-null  int64  \n",
      "dtypes: float64(5), int64(6), object(12)\n",
      "memory usage: 97.5+ MB\n",
      "None\n",
      "\n",
      "Train Data Sample:\n",
      "   Unnamed: 0 trans_date_trans_time            cc_num  \\\n",
      "0           0   2019-01-01 00:00:18  2703186189652095   \n",
      "1           1   2019-01-01 00:00:44      630423337322   \n",
      "2           2   2019-01-01 00:00:51    38859492057661   \n",
      "3           3   2019-01-01 00:01:16  3534093764340240   \n",
      "4           4   2019-01-01 00:03:06   375534208663984   \n",
      "\n",
      "                             merchant       category     amt      first  \\\n",
      "0          fraud_Rippin, Kub and Mann       misc_net    4.97   Jennifer   \n",
      "1     fraud_Heller, Gutmann and Zieme    grocery_pos  107.23  Stephanie   \n",
      "2                fraud_Lind-Buckridge  entertainment  220.11     Edward   \n",
      "3  fraud_Kutch, Hermiston and Farrell  gas_transport   45.00     Jeremy   \n",
      "4                 fraud_Keeling-Crist       misc_pos   41.96      Tyler   \n",
      "\n",
      "      last gender                        street  ...      lat      long  \\\n",
      "0    Banks      F                561 Perry Cove  ...  36.0788  -81.1781   \n",
      "1     Gill      F  43039 Riley Greens Suite 393  ...  48.8878 -118.2105   \n",
      "2  Sanchez      M      594 White Dale Suite 530  ...  42.1808 -112.2620   \n",
      "3    White      M   9443 Cynthia Court Apt. 038  ...  46.2306 -112.1138   \n",
      "4   Garcia      M              408 Bradley Rest  ...  38.4207  -79.4629   \n",
      "\n",
      "   city_pop                                job         dob  \\\n",
      "0      3495          Psychologist, counselling  1988-03-09   \n",
      "1       149  Special educational needs teacher  1978-06-21   \n",
      "2      4154        Nature conservation officer  1962-01-19   \n",
      "3      1939                    Patent attorney  1967-01-12   \n",
      "4        99     Dance movement psychotherapist  1986-03-28   \n",
      "\n",
      "                          trans_num   unix_time  merch_lat  merch_long  \\\n",
      "0  0b242abb623afc578575680df30655b9  1325376018  36.011293  -82.048315   \n",
      "1  1f76529f8574734946361c461b024d99  1325376044  49.159047 -118.186462   \n",
      "2  a1a22d70485983eac12b5b88dad1cf95  1325376051  43.150704 -112.154481   \n",
      "3  6b849c168bdad6f867558c3793159a81  1325376076  47.034331 -112.561071   \n",
      "4  a41d7549acf90789359a9aa5346dcb46  1325376186  38.674999  -78.632459   \n",
      "\n",
      "   is_fraud  \n",
      "0         0  \n",
      "1         0  \n",
      "2         0  \n",
      "3         0  \n",
      "4         0  \n",
      "\n",
      "[5 rows x 23 columns]\n",
      "\n",
      "Test Data Sample:\n",
      "   Unnamed: 0 trans_date_trans_time            cc_num  \\\n",
      "0           0   2020-06-21 12:14:25  2291163933867244   \n",
      "1           1   2020-06-21 12:14:33  3573030041201292   \n",
      "2           2   2020-06-21 12:14:53  3598215285024754   \n",
      "3           3   2020-06-21 12:15:15  3591919803438423   \n",
      "4           4   2020-06-21 12:15:17  3526826139003047   \n",
      "\n",
      "                               merchant        category    amt   first  \\\n",
      "0                 fraud_Kirlin and Sons   personal_care   2.86    Jeff   \n",
      "1                  fraud_Sporer-Keebler   personal_care  29.84  Joanne   \n",
      "2  fraud_Swaniawski, Nitzsche and Welch  health_fitness  41.28  Ashley   \n",
      "3                     fraud_Haley Group        misc_pos  60.05   Brian   \n",
      "4                 fraud_Johnston-Casper          travel   3.19  Nathan   \n",
      "\n",
      "       last gender                       street  ...      lat      long  \\\n",
      "0   Elliott      M            351 Darlene Green  ...  33.9659  -80.9355   \n",
      "1  Williams      F             3638 Marsh Union  ...  40.3207 -110.4360   \n",
      "2     Lopez      F         9333 Valentine Point  ...  40.6729  -73.5365   \n",
      "3  Williams      M  32941 Krystal Mill Apt. 552  ...  28.5697  -80.8191   \n",
      "4    Massey      M     5783 Evan Roads Apt. 465  ...  44.2529  -85.0170   \n",
      "\n",
      "   city_pop                     job         dob  \\\n",
      "0    333497     Mechanical engineer  1968-03-19   \n",
      "1       302  Sales professional, IT  1990-01-17   \n",
      "2     34496       Librarian, public  1970-10-21   \n",
      "3     54767            Set designer  1987-07-25   \n",
      "4      1126      Furniture designer  1955-07-06   \n",
      "\n",
      "                          trans_num   unix_time  merch_lat  merch_long  \\\n",
      "0  2da90c7d74bd46a0caf3777415b3ebd3  1371816865  33.986391  -81.200714   \n",
      "1  324cc204407e99f51b0d6ca0055005e7  1371816873  39.450498 -109.960431   \n",
      "2  c81755dbbbea9d5c77f094348a7579be  1371816893  40.495810  -74.196111   \n",
      "3  2159175b9efe66dc301f149d3d5abf8c  1371816915  28.812398  -80.883061   \n",
      "4  57ff021bd3f328f8738bb535c302a31b  1371816917  44.959148  -85.884734   \n",
      "\n",
      "   is_fraud  \n",
      "0         0  \n",
      "1         0  \n",
      "2         0  \n",
      "3         0  \n",
      "4         0  \n",
      "\n",
      "[5 rows x 23 columns]\n"
     ]
    }
   ],
   "source": [
    "import pandas as pd\n",
    "\n",
    "# Load train and test datasets\n",
    "train_df = pd.read_csv(r\"C:\\Users\\Asus\\OneDrive\\Desktop\\CREDIT CARD FRAUD\\archive\\fraudTrain.csv\")\n",
    "test_df = pd.read_csv(r\"C:\\Users\\Asus\\OneDrive\\Desktop\\CREDIT CARD FRAUD\\archive\\fraudTest.csv\")\n",
    "\n",
    "# Display basic information\n",
    "print(\"Train Data Info:\")\n",
    "print(train_df.info())  # Check data types & missing values\n",
    "\n",
    "print(\"\\nTest Data Info:\")\n",
    "print(test_df.info())  # Check data types & missing values\n",
    "\n",
    "# Preview first few rows\n",
    "print(\"\\nTrain Data Sample:\")\n",
    "print(train_df.head())\n",
    "\n",
    "print(\"\\nTest Data Sample:\")\n",
    "print(test_df.head())\n"
   ]
  },
  {
   "cell_type": "code",
   "execution_count": 2,
   "id": "174f2f02-47c6-417b-8f94-65c15d4153a7",
   "metadata": {},
   "outputs": [
    {
     "name": "stdout",
     "output_type": "stream",
     "text": [
      "                             merchant       category     amt gender      lat  \\\n",
      "0          fraud_Rippin, Kub and Mann       misc_net    4.97      F  36.0788   \n",
      "1     fraud_Heller, Gutmann and Zieme    grocery_pos  107.23      F  48.8878   \n",
      "2                fraud_Lind-Buckridge  entertainment  220.11      M  42.1808   \n",
      "3  fraud_Kutch, Hermiston and Farrell  gas_transport   45.00      M  46.2306   \n",
      "4                 fraud_Keeling-Crist       misc_pos   41.96      M  38.4207   \n",
      "\n",
      "       long  city_pop                                job   unix_time  \\\n",
      "0  -81.1781      3495          Psychologist, counselling  1325376018   \n",
      "1 -118.2105       149  Special educational needs teacher  1325376044   \n",
      "2 -112.2620      4154        Nature conservation officer  1325376051   \n",
      "3 -112.1138      1939                    Patent attorney  1325376076   \n",
      "4  -79.4629        99     Dance movement psychotherapist  1325376186   \n",
      "\n",
      "   merch_lat  merch_long  is_fraud  \n",
      "0  36.011293  -82.048315         0  \n",
      "1  49.159047 -118.186462         0  \n",
      "2  43.150704 -112.154481         0  \n",
      "3  47.034331 -112.561071         0  \n",
      "4  38.674999  -78.632459         0  \n"
     ]
    }
   ],
   "source": [
    "columns_to_drop = [\"Unnamed: 0\", \"trans_date_trans_time\", \"first\", \"last\", \"street\", \n",
    "                   \"city\", \"state\", \"zip\", \"cc_num\", \"trans_num\", \"dob\"]\n",
    "\n",
    "train_df.drop(columns=columns_to_drop, inplace=True)\n",
    "test_df.drop(columns=columns_to_drop, inplace=True)\n",
    "\n",
    "print(train_df.head())  # Check if columns are removed\n"
   ]
  },
  {
   "cell_type": "code",
   "execution_count": 3,
   "id": "dfc939af-2ef0-4647-97b8-0496f9de0e30",
   "metadata": {},
   "outputs": [
    {
     "name": "stdout",
     "output_type": "stream",
     "text": [
      "   merchant       category     amt gender      lat      long  city_pop  \\\n",
      "0       514       misc_net    4.97      F  36.0788  -81.1781      3495   \n",
      "1       241    grocery_pos  107.23      F  48.8878 -118.2105       149   \n",
      "2       390  entertainment  220.11      M  42.1808 -112.2620      4154   \n",
      "3       360  gas_transport   45.00      M  46.2306 -112.1138      1939   \n",
      "4       297       misc_pos   41.96      M  38.4207  -79.4629        99   \n",
      "\n",
      "                                 job   unix_time  merch_lat  merch_long  \\\n",
      "0          Psychologist, counselling  1325376018  36.011293  -82.048315   \n",
      "1  Special educational needs teacher  1325376044  49.159047 -118.186462   \n",
      "2        Nature conservation officer  1325376051  43.150704 -112.154481   \n",
      "3                    Patent attorney  1325376076  47.034331 -112.561071   \n",
      "4     Dance movement psychotherapist  1325376186  38.674999  -78.632459   \n",
      "\n",
      "   is_fraud  \n",
      "0         0  \n",
      "1         0  \n",
      "2         0  \n",
      "3         0  \n",
      "4         0  \n"
     ]
    }
   ],
   "source": [
    "from sklearn.preprocessing import LabelEncoder\n",
    "\n",
    "# Initialize LabelEncoder\n",
    "label_encoder = LabelEncoder()\n",
    "\n",
    "# Encode the 'merchant' column\n",
    "train_df[\"merchant\"] = label_encoder.fit_transform(train_df[\"merchant\"])\n",
    "test_df[\"merchant\"] = label_encoder.transform(test_df[\"merchant\"])\n",
    "\n",
    "# Display transformed data\n",
    "print(train_df.head())\n"
   ]
  },
  {
   "cell_type": "code",
   "execution_count": 4,
   "id": "073cf260-b3ce-4b13-81f7-3e161572eef0",
   "metadata": {},
   "outputs": [
    {
     "name": "stdout",
     "output_type": "stream",
     "text": [
      "   merchant  category     amt gender      lat      long  city_pop  \\\n",
      "0       514         8    4.97      F  36.0788  -81.1781      3495   \n",
      "1       241         4  107.23      F  48.8878 -118.2105       149   \n",
      "2       390         0  220.11      M  42.1808 -112.2620      4154   \n",
      "3       360         2   45.00      M  46.2306 -112.1138      1939   \n",
      "4       297         9   41.96      M  38.4207  -79.4629        99   \n",
      "\n",
      "                                 job   unix_time  merch_lat  merch_long  \\\n",
      "0          Psychologist, counselling  1325376018  36.011293  -82.048315   \n",
      "1  Special educational needs teacher  1325376044  49.159047 -118.186462   \n",
      "2        Nature conservation officer  1325376051  43.150704 -112.154481   \n",
      "3                    Patent attorney  1325376076  47.034331 -112.561071   \n",
      "4     Dance movement psychotherapist  1325376186  38.674999  -78.632459   \n",
      "\n",
      "   is_fraud  \n",
      "0         0  \n",
      "1         0  \n",
      "2         0  \n",
      "3         0  \n",
      "4         0  \n"
     ]
    }
   ],
   "source": [
    "# Encode the 'category' column\n",
    "train_df[\"category\"] = label_encoder.fit_transform(train_df[\"category\"])\n",
    "test_df[\"category\"] = label_encoder.transform(test_df[\"category\"])\n",
    "\n",
    "# Display transformed data\n",
    "print(train_df.head())\n"
   ]
  },
  {
   "cell_type": "code",
   "execution_count": 5,
   "id": "da7bf398-93bc-4260-a529-5f62dafa5dc1",
   "metadata": {},
   "outputs": [
    {
     "name": "stdout",
     "output_type": "stream",
     "text": [
      "   merchant  category     amt  gender      lat      long  city_pop  \\\n",
      "0       514         8    4.97       0  36.0788  -81.1781      3495   \n",
      "1       241         4  107.23       0  48.8878 -118.2105       149   \n",
      "2       390         0  220.11       1  42.1808 -112.2620      4154   \n",
      "3       360         2   45.00       1  46.2306 -112.1138      1939   \n",
      "4       297         9   41.96       1  38.4207  -79.4629        99   \n",
      "\n",
      "                                 job   unix_time  merch_lat  merch_long  \\\n",
      "0          Psychologist, counselling  1325376018  36.011293  -82.048315   \n",
      "1  Special educational needs teacher  1325376044  49.159047 -118.186462   \n",
      "2        Nature conservation officer  1325376051  43.150704 -112.154481   \n",
      "3                    Patent attorney  1325376076  47.034331 -112.561071   \n",
      "4     Dance movement psychotherapist  1325376186  38.674999  -78.632459   \n",
      "\n",
      "   is_fraud  \n",
      "0         0  \n",
      "1         0  \n",
      "2         0  \n",
      "3         0  \n",
      "4         0  \n"
     ]
    }
   ],
   "source": [
    "# Encode the 'gender' column\n",
    "train_df[\"gender\"] = label_encoder.fit_transform(train_df[\"gender\"])\n",
    "test_df[\"gender\"] = label_encoder.transform(test_df[\"gender\"])\n",
    "\n",
    "# Display transformed data\n",
    "print(train_df.head())\n"
   ]
  },
  {
   "cell_type": "code",
   "execution_count": 6,
   "id": "3afb74fc-5a6c-430c-9f22-e755b2b52ef6",
   "metadata": {},
   "outputs": [
    {
     "ename": "ValueError",
     "evalue": "y contains previously unseen labels: 'Engineer, water'",
     "output_type": "error",
     "traceback": [
      "\u001b[1;31m---------------------------------------------------------------------------\u001b[0m",
      "\u001b[1;31mKeyError\u001b[0m                                  Traceback (most recent call last)",
      "File \u001b[1;32m~\\AppData\\Local\\Programs\\Python\\Python310\\lib\\site-packages\\sklearn\\utils\\_encode.py:235\u001b[0m, in \u001b[0;36m_encode\u001b[1;34m(values, uniques, check_unknown)\u001b[0m\n\u001b[0;32m    234\u001b[0m \u001b[38;5;28;01mtry\u001b[39;00m:\n\u001b[1;32m--> 235\u001b[0m     \u001b[38;5;28;01mreturn\u001b[39;00m \u001b[43m_map_to_integer\u001b[49m\u001b[43m(\u001b[49m\u001b[43mvalues\u001b[49m\u001b[43m,\u001b[49m\u001b[43m \u001b[49m\u001b[43muniques\u001b[49m\u001b[43m)\u001b[49m\n\u001b[0;32m    236\u001b[0m \u001b[38;5;28;01mexcept\u001b[39;00m \u001b[38;5;167;01mKeyError\u001b[39;00m \u001b[38;5;28;01mas\u001b[39;00m e:\n",
      "File \u001b[1;32m~\\AppData\\Local\\Programs\\Python\\Python310\\lib\\site-packages\\sklearn\\utils\\_encode.py:174\u001b[0m, in \u001b[0;36m_map_to_integer\u001b[1;34m(values, uniques)\u001b[0m\n\u001b[0;32m    173\u001b[0m table \u001b[38;5;241m=\u001b[39m _nandict({val: i \u001b[38;5;28;01mfor\u001b[39;00m i, val \u001b[38;5;129;01min\u001b[39;00m \u001b[38;5;28menumerate\u001b[39m(uniques)})\n\u001b[1;32m--> 174\u001b[0m \u001b[38;5;28;01mreturn\u001b[39;00m xp\u001b[38;5;241m.\u001b[39masarray([table[v] \u001b[38;5;28;01mfor\u001b[39;00m v \u001b[38;5;129;01min\u001b[39;00m values], device\u001b[38;5;241m=\u001b[39mdevice(values))\n",
      "File \u001b[1;32m~\\AppData\\Local\\Programs\\Python\\Python310\\lib\\site-packages\\sklearn\\utils\\_encode.py:174\u001b[0m, in \u001b[0;36m<listcomp>\u001b[1;34m(.0)\u001b[0m\n\u001b[0;32m    173\u001b[0m table \u001b[38;5;241m=\u001b[39m _nandict({val: i \u001b[38;5;28;01mfor\u001b[39;00m i, val \u001b[38;5;129;01min\u001b[39;00m \u001b[38;5;28menumerate\u001b[39m(uniques)})\n\u001b[1;32m--> 174\u001b[0m \u001b[38;5;28;01mreturn\u001b[39;00m xp\u001b[38;5;241m.\u001b[39masarray([\u001b[43mtable\u001b[49m\u001b[43m[\u001b[49m\u001b[43mv\u001b[49m\u001b[43m]\u001b[49m \u001b[38;5;28;01mfor\u001b[39;00m v \u001b[38;5;129;01min\u001b[39;00m values], device\u001b[38;5;241m=\u001b[39mdevice(values))\n",
      "File \u001b[1;32m~\\AppData\\Local\\Programs\\Python\\Python310\\lib\\site-packages\\sklearn\\utils\\_encode.py:167\u001b[0m, in \u001b[0;36m_nandict.__missing__\u001b[1;34m(self, key)\u001b[0m\n\u001b[0;32m    166\u001b[0m     \u001b[38;5;28;01mreturn\u001b[39;00m \u001b[38;5;28mself\u001b[39m\u001b[38;5;241m.\u001b[39mnan_value\n\u001b[1;32m--> 167\u001b[0m \u001b[38;5;28;01mraise\u001b[39;00m \u001b[38;5;167;01mKeyError\u001b[39;00m(key)\n",
      "\u001b[1;31mKeyError\u001b[0m: 'Engineer, water'",
      "\nDuring handling of the above exception, another exception occurred:\n",
      "\u001b[1;31mValueError\u001b[0m                                Traceback (most recent call last)",
      "Cell \u001b[1;32mIn[6], line 3\u001b[0m\n\u001b[0;32m      1\u001b[0m \u001b[38;5;66;03m# Encode the 'job' column\u001b[39;00m\n\u001b[0;32m      2\u001b[0m train_df[\u001b[38;5;124m\"\u001b[39m\u001b[38;5;124mjob\u001b[39m\u001b[38;5;124m\"\u001b[39m] \u001b[38;5;241m=\u001b[39m label_encoder\u001b[38;5;241m.\u001b[39mfit_transform(train_df[\u001b[38;5;124m\"\u001b[39m\u001b[38;5;124mjob\u001b[39m\u001b[38;5;124m\"\u001b[39m])\n\u001b[1;32m----> 3\u001b[0m test_df[\u001b[38;5;124m\"\u001b[39m\u001b[38;5;124mjob\u001b[39m\u001b[38;5;124m\"\u001b[39m] \u001b[38;5;241m=\u001b[39m \u001b[43mlabel_encoder\u001b[49m\u001b[38;5;241;43m.\u001b[39;49m\u001b[43mtransform\u001b[49m\u001b[43m(\u001b[49m\u001b[43mtest_df\u001b[49m\u001b[43m[\u001b[49m\u001b[38;5;124;43m\"\u001b[39;49m\u001b[38;5;124;43mjob\u001b[39;49m\u001b[38;5;124;43m\"\u001b[39;49m\u001b[43m]\u001b[49m\u001b[43m)\u001b[49m\n\u001b[0;32m      5\u001b[0m \u001b[38;5;66;03m# Display transformed data\u001b[39;00m\n\u001b[0;32m      6\u001b[0m \u001b[38;5;28mprint\u001b[39m(train_df\u001b[38;5;241m.\u001b[39mhead())\n",
      "File \u001b[1;32m~\\AppData\\Local\\Programs\\Python\\Python310\\lib\\site-packages\\sklearn\\preprocessing\\_label.py:134\u001b[0m, in \u001b[0;36mLabelEncoder.transform\u001b[1;34m(self, y)\u001b[0m\n\u001b[0;32m    131\u001b[0m \u001b[38;5;28;01mif\u001b[39;00m _num_samples(y) \u001b[38;5;241m==\u001b[39m \u001b[38;5;241m0\u001b[39m:\n\u001b[0;32m    132\u001b[0m     \u001b[38;5;28;01mreturn\u001b[39;00m xp\u001b[38;5;241m.\u001b[39masarray([])\n\u001b[1;32m--> 134\u001b[0m \u001b[38;5;28;01mreturn\u001b[39;00m \u001b[43m_encode\u001b[49m\u001b[43m(\u001b[49m\u001b[43my\u001b[49m\u001b[43m,\u001b[49m\u001b[43m \u001b[49m\u001b[43muniques\u001b[49m\u001b[38;5;241;43m=\u001b[39;49m\u001b[38;5;28;43mself\u001b[39;49m\u001b[38;5;241;43m.\u001b[39;49m\u001b[43mclasses_\u001b[49m\u001b[43m)\u001b[49m\n",
      "File \u001b[1;32m~\\AppData\\Local\\Programs\\Python\\Python310\\lib\\site-packages\\sklearn\\utils\\_encode.py:237\u001b[0m, in \u001b[0;36m_encode\u001b[1;34m(values, uniques, check_unknown)\u001b[0m\n\u001b[0;32m    235\u001b[0m         \u001b[38;5;28;01mreturn\u001b[39;00m _map_to_integer(values, uniques)\n\u001b[0;32m    236\u001b[0m     \u001b[38;5;28;01mexcept\u001b[39;00m \u001b[38;5;167;01mKeyError\u001b[39;00m \u001b[38;5;28;01mas\u001b[39;00m e:\n\u001b[1;32m--> 237\u001b[0m         \u001b[38;5;28;01mraise\u001b[39;00m \u001b[38;5;167;01mValueError\u001b[39;00m(\u001b[38;5;124mf\u001b[39m\u001b[38;5;124m\"\u001b[39m\u001b[38;5;124my contains previously unseen labels: \u001b[39m\u001b[38;5;132;01m{\u001b[39;00m\u001b[38;5;28mstr\u001b[39m(e)\u001b[38;5;132;01m}\u001b[39;00m\u001b[38;5;124m\"\u001b[39m)\n\u001b[0;32m    238\u001b[0m \u001b[38;5;28;01melse\u001b[39;00m:\n\u001b[0;32m    239\u001b[0m     \u001b[38;5;28;01mif\u001b[39;00m check_unknown:\n",
      "\u001b[1;31mValueError\u001b[0m: y contains previously unseen labels: 'Engineer, water'"
     ]
    }
   ],
   "source": [
    "# Encode the 'job' column\n",
    "train_df[\"job\"] = label_encoder.fit_transform(train_df[\"job\"])\n",
    "test_df[\"job\"] = label_encoder.transform(test_df[\"job\"])\n",
    "\n",
    "# Display transformed data\n",
    "print(train_df.head())\n"
   ]
  },
  {
   "cell_type": "code",
   "execution_count": 7,
   "id": "8a57d52b-7385-4ef5-a8de-b6ed5254f3c4",
   "metadata": {},
   "outputs": [
    {
     "name": "stdout",
     "output_type": "stream",
     "text": [
      "   merchant  category     amt  gender      lat      long  city_pop  job  \\\n",
      "0       514         8    4.97       0  36.0788  -81.1781      3495  370   \n",
      "1       241         4  107.23       0  48.8878 -118.2105       149  428   \n",
      "2       390         0  220.11       1  42.1808 -112.2620      4154  307   \n",
      "3       360         2   45.00       1  46.2306 -112.1138      1939  328   \n",
      "4       297         9   41.96       1  38.4207  -79.4629        99  116   \n",
      "\n",
      "    unix_time  merch_lat  merch_long  is_fraud  \n",
      "0  1325376018  36.011293  -82.048315         0  \n",
      "1  1325376044  49.159047 -118.186462         0  \n",
      "2  1325376051  43.150704 -112.154481         0  \n",
      "3  1325376076  47.034331 -112.561071         0  \n",
      "4  1325376186  38.674999  -78.632459         0  \n",
      "   merchant  category    amt  gender      lat      long  city_pop  job  \\\n",
      "0       319        10   2.86       1  33.9659  -80.9355    333497   -1   \n",
      "1       591        10  29.84       0  40.3207 -110.4360       302   -1   \n",
      "2       611         5  41.28       0  40.6729  -73.5365     34496   -1   \n",
      "3       222         9  60.05       1  28.5697  -80.8191     54767   -1   \n",
      "4       292        13   3.19       1  44.2529  -85.0170      1126   -1   \n",
      "\n",
      "    unix_time  merch_lat  merch_long  is_fraud  \n",
      "0  1371816865  33.986391  -81.200714         0  \n",
      "1  1371816873  39.450498 -109.960431         0  \n",
      "2  1371816893  40.495810  -74.196111         0  \n",
      "3  1371816915  28.812398  -80.883061         0  \n",
      "4  1371816917  44.959148  -85.884734         0  \n"
     ]
    }
   ],
   "source": [
    "# Initialize LabelEncoder\n",
    "label_encoder = LabelEncoder()\n",
    "\n",
    "# Fit only on training data\n",
    "train_df[\"job\"] = label_encoder.fit_transform(train_df[\"job\"])\n",
    "\n",
    "# Create a mapping dictionary for encoding\n",
    "job_mapping = {label: idx for idx, label in enumerate(label_encoder.classes_)}\n",
    "\n",
    "# Apply encoding to test set safely\n",
    "test_df[\"job\"] = test_df[\"job\"].map(job_mapping).fillna(-1).astype(int)\n",
    "\n",
    "# Display transformed data\n",
    "print(train_df.head())\n",
    "print(test_df.head())\n"
   ]
  },
  {
   "cell_type": "code",
   "execution_count": 8,
   "id": "21f5864f-62aa-4c83-8682-ed290ecdb8c0",
   "metadata": {},
   "outputs": [
    {
     "name": "stdout",
     "output_type": "stream",
     "text": [
      "   merchant  category       amt  gender       lat      long  city_pop  job  \\\n",
      "0       514         8  0.000137       0  0.343968  0.864638  0.001194  370   \n",
      "1       241         4  0.003670       0  0.618450  0.485682  0.000043  428   \n",
      "2       390         0  0.007569       1  0.474727  0.546553  0.001421  307   \n",
      "3       360         2  0.001520       1  0.561509  0.548070  0.000659  328   \n",
      "4       297         9  0.001415       1  0.394153  0.882190  0.000026  116   \n",
      "\n",
      "      unix_time  merch_lat  merch_long  is_fraud  \n",
      "0  0.000000e+00   0.350302    0.848602         0  \n",
      "1  5.598526e-07   0.621488    0.486208         0  \n",
      "2  7.105821e-07   0.497559    0.546697         0  \n",
      "3  1.248902e-06   0.577663    0.542619         0  \n",
      "4  3.617509e-06   0.405244    0.882857         0  \n"
     ]
    }
   ],
   "source": [
    "from sklearn.preprocessing import MinMaxScaler\n",
    "\n",
    "# Initialize MinMaxScaler\n",
    "scaler = MinMaxScaler()\n",
    "\n",
    "# Select numeric columns for scaling\n",
    "numeric_columns = [\"amt\", \"lat\", \"long\", \"city_pop\", \"unix_time\", \"merch_lat\", \"merch_long\"]\n",
    "\n",
    "# Apply MinMaxScaler\n",
    "train_df[numeric_columns] = scaler.fit_transform(train_df[numeric_columns])\n",
    "test_df[numeric_columns] = scaler.transform(test_df[numeric_columns])\n",
    "\n",
    "# Check scaled data\n",
    "print(train_df.head())\n"
   ]
  },
  {
   "cell_type": "code",
   "execution_count": 9,
   "id": "fbb17f55-b371-4c40-bec2-938cf7881858",
   "metadata": {},
   "outputs": [
    {
     "name": "stdout",
     "output_type": "stream",
     "text": [
      "is_fraud\n",
      "0    1289169\n",
      "1    1289169\n",
      "Name: count, dtype: int64\n"
     ]
    }
   ],
   "source": [
    "from imblearn.over_sampling import SMOTE\n",
    "\n",
    "# Separate features (X) and target (y)\n",
    "X_train = train_df.drop(columns=[\"is_fraud\"])\n",
    "y_train = train_df[\"is_fraud\"]\n",
    "\n",
    "# Apply SMOTE\n",
    "smote = SMOTE(random_state=42)\n",
    "X_resampled, y_resampled = smote.fit_resample(X_train, y_train)\n",
    "\n",
    "# Check new class distribution\n",
    "print(y_resampled.value_counts())\n"
   ]
  },
  {
   "cell_type": "code",
   "execution_count": 10,
   "id": "f188cfe3-bcbc-4cb9-899a-3409e6c544e2",
   "metadata": {},
   "outputs": [
    {
     "name": "stdout",
     "output_type": "stream",
     "text": [
      "Model Accuracy: 0.602957716980693\n",
      "\n",
      "Classification Report:\n",
      "               precision    recall  f1-score   support\n",
      "\n",
      "           0       0.62      0.54      0.58    257186\n",
      "           1       0.59      0.66      0.63    258482\n",
      "\n",
      "    accuracy                           0.60    515668\n",
      "   macro avg       0.60      0.60      0.60    515668\n",
      "weighted avg       0.60      0.60      0.60    515668\n",
      "\n"
     ]
    },
    {
     "name": "stderr",
     "output_type": "stream",
     "text": [
      "C:\\Users\\Asus\\AppData\\Local\\Programs\\Python\\Python310\\lib\\site-packages\\sklearn\\linear_model\\_logistic.py:465: ConvergenceWarning: lbfgs failed to converge (status=1):\n",
      "STOP: TOTAL NO. OF ITERATIONS REACHED LIMIT.\n",
      "\n",
      "Increase the number of iterations (max_iter) or scale the data as shown in:\n",
      "    https://scikit-learn.org/stable/modules/preprocessing.html\n",
      "Please also refer to the documentation for alternative solver options:\n",
      "    https://scikit-learn.org/stable/modules/linear_model.html#logistic-regression\n",
      "  n_iter_i = _check_optimize_result(\n"
     ]
    }
   ],
   "source": [
    "from sklearn.model_selection import train_test_split\n",
    "from sklearn.linear_model import LogisticRegression\n",
    "from sklearn.metrics import accuracy_score, classification_report\n",
    "\n",
    "# Split the balanced dataset into training & testing sets\n",
    "X_train_bal, X_test_bal, y_train_bal, y_test_bal = train_test_split(X_resampled, y_resampled, test_size=0.2, random_state=42)\n",
    "\n",
    "# Initialize Logistic Regression model\n",
    "model = LogisticRegression()\n",
    "\n",
    "# Train the model\n",
    "model.fit(X_train_bal, y_train_bal)\n",
    "\n",
    "# Make predictions\n",
    "y_pred = model.predict(X_test_bal)\n",
    "\n",
    "# Evaluate model performance\n",
    "print(\"Model Accuracy:\", accuracy_score(y_test_bal, y_pred))\n",
    "print(\"\\nClassification Report:\\n\", classification_report(y_test_bal, y_pred))\n"
   ]
  },
  {
   "cell_type": "code",
   "execution_count": 11,
   "id": "a6a1b99d-53ed-4be0-ab53-093f0d37d7cb",
   "metadata": {},
   "outputs": [
    {
     "name": "stdout",
     "output_type": "stream",
     "text": [
      "Model Accuracy: 0.6321935819170474\n",
      "\n",
      "Classification Report:\n",
      "               precision    recall  f1-score   support\n",
      "\n",
      "           0       0.65      0.56      0.60    257186\n",
      "           1       0.62      0.70      0.66    258482\n",
      "\n",
      "    accuracy                           0.63    515668\n",
      "   macro avg       0.63      0.63      0.63    515668\n",
      "weighted avg       0.63      0.63      0.63    515668\n",
      "\n"
     ]
    },
    {
     "name": "stderr",
     "output_type": "stream",
     "text": [
      "C:\\Users\\Asus\\AppData\\Local\\Programs\\Python\\Python310\\lib\\site-packages\\sklearn\\linear_model\\_sag.py:348: ConvergenceWarning: The max_iter was reached which means the coef_ did not converge\n",
      "  warnings.warn(\n"
     ]
    }
   ],
   "source": [
    "# Re-train Logistic Regression with more iterations and a better solver\n",
    "model = LogisticRegression(max_iter=500, solver='saga')\n",
    "\n",
    "# Train the model again\n",
    "model.fit(X_train_bal, y_train_bal)\n",
    "\n",
    "# Make predictions again\n",
    "y_pred = model.predict(X_test_bal)\n",
    "\n",
    "# Evaluate performance\n",
    "print(\"Model Accuracy:\", accuracy_score(y_test_bal, y_pred))\n",
    "print(\"\\nClassification Report:\\n\", classification_report(y_test_bal, y_pred))\n"
   ]
  },
  {
   "cell_type": "code",
   "execution_count": 12,
   "id": "a40bc01d-5d0e-48a0-a1c1-769c51311829",
   "metadata": {},
   "outputs": [
    {
     "name": "stdout",
     "output_type": "stream",
     "text": [
      "Random Forest Accuracy: 0.9959101592497498\n",
      "\n",
      "Classification Report:\n",
      "               precision    recall  f1-score   support\n",
      "\n",
      "           0       1.00      0.99      1.00    257186\n",
      "           1       0.99      1.00      1.00    258482\n",
      "\n",
      "    accuracy                           1.00    515668\n",
      "   macro avg       1.00      1.00      1.00    515668\n",
      "weighted avg       1.00      1.00      1.00    515668\n",
      "\n"
     ]
    }
   ],
   "source": [
    "from sklearn.ensemble import RandomForestClassifier\n",
    "from sklearn.metrics import accuracy_score, classification_report\n",
    "\n",
    "# Initialize the model\n",
    "rf_model = RandomForestClassifier(n_estimators=100, random_state=42)\n",
    "\n",
    "# Train the model\n",
    "rf_model.fit(X_train_bal, y_train_bal)\n",
    "\n",
    "# Make predictions\n",
    "y_pred_rf = rf_model.predict(X_test_bal)\n",
    "\n",
    "# Check performance\n",
    "print(\"Random Forest Accuracy:\", accuracy_score(y_test_bal, y_pred_rf))\n",
    "print(\"\\nClassification Report:\\n\", classification_report(y_test_bal, y_pred_rf))\n"
   ]
  },
  {
   "cell_type": "code",
   "execution_count": 13,
   "id": "7c72f67e-c883-4a06-b780-fea05c96d440",
   "metadata": {},
   "outputs": [
    {
     "name": "stdout",
     "output_type": "stream",
     "text": [
      "Model saved successfully at: C:\\Users\\Asus\\OneDrive\\Desktop\\CREDIT CARD FRAUD\\fraud_detection_model.pkl\n"
     ]
    }
   ],
   "source": [
    "\n",
    "import joblib\n",
    "\n",
    "# Define the save path\n",
    "save_path = r\"C:\\Users\\Asus\\OneDrive\\Desktop\\CREDIT CARD FRAUD\\fraud_detection_model.pkl\"\n",
    "\n",
    "# Save the trained model\n",
    "joblib.dump(rf_model, save_path)\n",
    "\n",
    "print(f\"Model saved successfully at: {save_path}\")\n"
   ]
  },
  {
   "cell_type": "code",
   "execution_count": 14,
   "id": "36a980ec-5422-409b-9405-87a0fcc9c638",
   "metadata": {},
   "outputs": [
    {
     "name": "stdout",
     "output_type": "stream",
     "text": [
      "Model loaded successfully!\n",
      "🔥 Fraud Detected! 🔥\n"
     ]
    },
    {
     "name": "stderr",
     "output_type": "stream",
     "text": [
      "C:\\Users\\Asus\\AppData\\Local\\Programs\\Python\\Python310\\lib\\site-packages\\sklearn\\utils\\validation.py:2739: UserWarning: X does not have valid feature names, but RandomForestClassifier was fitted with feature names\n",
      "  warnings.warn(\n"
     ]
    }
   ],
   "source": [
    "import joblib\n",
    "import numpy as np\n",
    "\n",
    "# Define the load path\n",
    "load_path = r\"C:\\Users\\Asus\\OneDrive\\Desktop\\CREDIT CARD FRAUD\\fraud_detection_model.pkl\"\n",
    "\n",
    "# Load the trained model\n",
    "loaded_model = joblib.load(load_path)\n",
    "\n",
    "print(\"Model loaded successfully!\")\n",
    "\n",
    "# Pick a random test sample\n",
    "sample_index = 10  # You can change this to any index from the test set\n",
    "sample_data = X_test_bal.iloc[sample_index].values.reshape(1, -1)  # Reshape for prediction\n",
    "\n",
    "# Make a prediction\n",
    "prediction = loaded_model.predict(sample_data)\n",
    "\n",
    "# Display result\n",
    "if prediction[0] == 1:\n",
    "    print(\"🔥 Fraud Detected! 🔥\")\n",
    "else:\n",
    "    print(\"✅ Transaction is Safe ✅\")\n"
   ]
  },
  {
   "cell_type": "code",
   "execution_count": 15,
   "id": "60c4de29-92e4-40a0-9dc1-c2e5532f14e3",
   "metadata": {},
   "outputs": [
    {
     "name": "stdout",
     "output_type": "stream",
     "text": [
      "🔥 Fraud Detected! 🔥\n"
     ]
    }
   ],
   "source": [
    "import pandas as pd\n",
    "\n",
    "# Convert sample data back to a DataFrame with column names\n",
    "sample_df = pd.DataFrame(sample_data, columns=X_test_bal.columns)\n",
    "\n",
    "# Make a prediction with correct feature names\n",
    "prediction = loaded_model.predict(sample_df)\n",
    "\n",
    "# Display result\n",
    "if prediction[0] == 1:\n",
    "    print(\"🔥 Fraud Detected! 🔥\")\n",
    "else:\n",
    "    print(\"✅ Transaction is Safe ✅\")\n"
   ]
  },
  {
   "cell_type": "code",
   "execution_count": 16,
   "id": "f08fda00-5d5b-4b67-901e-02c90371a006",
   "metadata": {},
   "outputs": [
    {
     "data": {
      "image/png": "[encoded data removed]",
      "text/plain": [
       "<Figure size 600x400 with 2 Axes>"
      ]
     },
     "metadata": {},
     "output_type": "display_data"
    }
   ],
   "source": [
    "import matplotlib.pyplot as plt\n",
    "import seaborn as sns\n",
    "from sklearn.metrics import confusion_matrix\n",
    "\n",
    "# Predict on test data\n",
    "y_pred = loaded_model.predict(X_test_bal)\n",
    "\n",
    "# Compute confusion matrix\n",
    "cm = confusion_matrix(y_test_bal, y_pred)\n",
    "\n",
    "# Plot confusion matrix\n",
    "plt.figure(figsize=(6, 4))\n",
    "sns.heatmap(cm, annot=True, fmt='d', cmap='Blues', xticklabels=['No Fraud', 'Fraud'], yticklabels=['No Fraud', 'Fraud'])\n",
    "plt.xlabel(\"Predicted\")\n",
    "plt.ylabel(\"Actual\")\n",
    "plt.title(\"Confusion Matrix\")\n",
    "plt.show()\n"
   ]
  },
  {
   "cell_type": "code",
   "execution_count": 17,
   "id": "c20f420a-1f43-4fe5-97b7-7605922b0c25",
   "metadata": {},
   "outputs": [
    {
     "name": "stderr",
     "output_type": "stream",
     "text": [
      "C:\\Users\\Asus\\AppData\\Local\\Temp\\ipykernel_11292\\1866741494.py:15: FutureWarning: \n",
      "\n",
      "Passing `palette` without assigning `hue` is deprecated and will be removed in v0.14.0. Assign the `y` variable to `hue` and set `legend=False` for the same effect.\n",
      "\n",
      "  sns.barplot(y=importance_df['Feature'][:10], x=importance_df['Importance'][:10], palette='magma')\n"
     ]
    },
    {
     "data": {
      "image/png": "[encoded data removed]",
      "text/plain": [
       "<Figure size 1200x600 with 1 Axes>"
      ]
     },
     "metadata": {},
     "output_type": "display_data"
    }
   ],
   "source": [
    "import matplotlib.pyplot as plt\n",
    "import seaborn as sns\n",
    "\n",
    "# Extract feature importance from the trained model\n",
    "feature_importance = loaded_model.feature_importances_\n",
    "\n",
    "# Convert to a DataFrame for easy visualization\n",
    "importance_df = pd.DataFrame({'Feature': X_test_bal.columns, 'Importance': feature_importance})\n",
    "\n",
    "# Sort features by importance (descending order)\n",
    "importance_df = importance_df.sort_values(by='Importance', ascending=False)\n",
    "\n",
    "# Plot the top 10 most important features\n",
    "plt.figure(figsize=(12, 6))\n",
    "sns.barplot(y=importance_df['Feature'][:10], x=importance_df['Importance'][:10], palette='magma')\n",
    "plt.xlabel(\"Feature Importance Score\")\n",
    "plt.ylabel(\"Feature Name\")\n",
    "plt.title(\"Top 10 Most Important Features in Fraud Detection\")S\n",
    "plt.show()\n",
    "\n"
   ]
  },
  {
   "cell_type": "code",
   "execution_count": 18,
   "id": "56ae6917-d93a-4490-97a0-476b116e1701",
   "metadata": {},
   "outputs": [
    {
     "data": {
      "image/png": "[encoded data removed]",
      "text/plain": [
       "<Figure size 800x600 with 1 Axes>"
      ]
     },
     "metadata": {},
     "output_type": "display_data"
    }
   ],
   "source": [
    "from sklearn.metrics import roc_curve, auc\n",
    "\n",
    "# Get model probabilities for the positive class\n",
    "y_probs = loaded_model.predict_proba(X_test_bal)[:, 1]\n",
    "\n",
    "# Compute ROC curve\n",
    "fpr, tpr, _ = roc_curve(y_test_bal, y_probs)\n",
    "roc_auc = auc(fpr, tpr)\n",
    "\n",
    "# Plot ROC Curve\n",
    "plt.figure(figsize=(8, 6))\n",
    "plt.plot(fpr, tpr, color='darkorange', lw=2, label=f'ROC curve (AUC = {roc_auc:.2f})')\n",
    "plt.plot([0, 1], [0, 1], color='navy', lw=2, linestyle='--')\n",
    "plt.xlim([0.0, 1.0])\n",
    "plt.ylim([0.0, 1.05])\n",
    "plt.xlabel('False Positive Rate')\n",
    "plt.ylabel('True Positive Rate')\n",
    "plt.title('Receiver Operating Characteristic (ROC) Curve')\n",
    "plt.legend(loc=\"lower right\")\n",
    "plt.show()\n"
   ]
  },
  {
   "cell_type": "code",
   "execution_count": 19,
   "id": "0a2ee0a2-c226-4394-a2b7-4bc10a947fc9",
   "metadata": {},
   "outputs": [
    {
     "data": {
      "image/png": "[encoded data removed]",
      "text/plain": [
       "<Figure size 800x600 with 1 Axes>"
      ]
     },
     "metadata": {},
     "output_type": "display_data"
    }
   ],
   "source": [
    "from sklearn.metrics import precision_recall_curve\n",
    "\n",
    "# Compute Precision-Recall curve\n",
    "precision, recall, _ = precision_recall_curve(y_test_bal, y_probs)\n",
    "\n",
    "# Plot Precision-Recall Curve\n",
    "plt.figure(figsize=(8, 6))\n",
    "plt.plot(recall, precision, color='purple', lw=2, label='Precision-Recall Curve')\n",
    "plt.xlabel('Recall')\n",
    "plt.ylabel('Precision')\n",
    "plt.title('Precision-Recall Curve')\n",
    "plt.legend(loc=\"lower left\")\n",
    "plt.show()\n"
   ]
  },
  {
   "cell_type": "code",
   "execution_count": null,
   "id": "3cca7620-74f6-452f-a110-ba1e3c5ba97c",
   "metadata": {},
   "outputs": [],
   "source": [
    "S"
   ]
  }
 ],
 "metadata": {
  "kernelspec": {
   "display_name": "Python 3 (ipykernel)",
   "language": "python",
   "name": "python3"
  },
  "language_info": {
   "codemirror_mode": {
    "name": "ipython",
    "version": 3
   },
   "file_extension": ".py",
   "mimetype": "text/x-python",
   "name": "python",
   "nbconvert_exporter": "python",
   "pygments_lexer": "ipython3",
   "version": "3.10.0"
  }
 },
 "nbformat": 4,
 "nbformat_minor": 5
}
